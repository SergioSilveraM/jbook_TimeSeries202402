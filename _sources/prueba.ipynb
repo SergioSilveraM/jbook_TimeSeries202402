{
 "cells": [
  {
   "cell_type": "markdown",
   "metadata": {},
   "source": [
    "# Bonificación Práctica 1"
   ]
  },
  {
   "cell_type": "code",
   "execution_count": 1,
   "metadata": {},
   "outputs": [],
   "source": [
    "import pandas as pd\n",
    "import matplotlib.pyplot as plt\n",
    "import seaborn as sns\n",
    "from functions import Functions\n"
   ]
  },
  {
   "cell_type": "code",
   "execution_count": 2,
   "metadata": {},
   "outputs": [],
   "source": [
    "import warnings\n",
    "warnings.filterwarnings(\"ignore\")\n",
    "FT = Functions()"
   ]
  },
  {
   "cell_type": "code",
   "execution_count": 3,
   "metadata": {},
   "outputs": [
    {
     "name": "stdout",
     "output_type": "stream",
     "text": [
      "📊📊📊📊📊\u001b[1mDataset Head\u001b[0m📊📊📊📊📊\n",
      "        time  input_voltage     el_power\n",
      "0  810.07028             10  1228.791720\n",
      "1  811.06938             10  1223.041745\n",
      "2  812.06848             10  1244.960866\n",
      "3  813.06758             10  1229.259058\n",
      "4  814.06668             10  1248.117024\n",
      "\n",
      "\n",
      "📊📊📊📊📊\u001b[1mDataset Shape\u001b[0m📊📊📊📊📊\n",
      "(9920, 3)\n",
      "\n",
      "\n",
      "📊📊📊📊📊\u001b[1mDataset information\u001b[0m📊📊📊📊📊\n",
      "<class 'pandas.core.frame.DataFrame'>\n",
      "RangeIndex: 9920 entries, 0 to 9919\n",
      "Data columns (total 3 columns):\n",
      " #   Column         Non-Null Count  Dtype  \n",
      "---  ------         --------------  -----  \n",
      " 0   time           9920 non-null   float64\n",
      " 1   input_voltage  9920 non-null   int64  \n",
      " 2   el_power       9920 non-null   float64\n",
      "dtypes: float64(2), int64(1)\n",
      "memory usage: 232.6 KB\n",
      "\n",
      "\n",
      "📊📊📊📊📊\u001b[1mDescriptive statistics\u001b[0m📊📊📊📊📊\n",
      "               time  input_voltage     el_power\n",
      "count   9920.000000    9920.000000  9920.000000\n",
      "mean    5765.317878       6.822480  2162.427874\n",
      "std     2861.440154       3.485288  1009.468755\n",
      "min      810.070280       3.000000   932.837260\n",
      "25%     3287.588505       3.000000   990.027512\n",
      "50%     5765.106730      10.000000  2709.354147\n",
      "75%     8243.140355      10.000000  3116.416457\n",
      "max    10720.658580      10.000000  3249.891217\n",
      "\n",
      "\n",
      "📊📊📊📊📊\u001b[1mMissing values\u001b[0m📊📊📊📊📊\n",
      "time             0\n",
      "input_voltage    0\n",
      "el_power         0\n",
      "dtype: int64\n"
     ]
    }
   ],
   "source": [
    "FT.BasicStatisticsDataFrame(\"../Datasets/EjerciciosPracticos/train/ex_1.csv\")"
   ]
  },
  {
   "cell_type": "code",
   "execution_count": 4,
   "metadata": {},
   "outputs": [
    {
     "name": "stdout",
     "output_type": "stream",
     "text": [
      "📊📊📊📊📊\u001b[1mDataset Head\u001b[0m📊📊📊📊📊\n",
      "     time  input_voltage     el_power\n",
      "0  818.84          3.445  1253.790314\n",
      "1  819.84          3.445  1349.836854\n",
      "2  820.84          3.445  1262.033813\n",
      "3  821.84          3.445  1370.205819\n",
      "4  822.84          3.445  1254.782490\n",
      "\n",
      "\n",
      "📊📊📊📊📊\u001b[1mDataset Shape\u001b[0m📊📊📊📊📊\n",
      "(11819, 3)\n",
      "\n",
      "\n",
      "📊📊📊📊📊\u001b[1mDataset information\u001b[0m📊📊📊📊📊\n",
      "<class 'pandas.core.frame.DataFrame'>\n",
      "RangeIndex: 11819 entries, 0 to 11818\n",
      "Data columns (total 3 columns):\n",
      " #   Column         Non-Null Count  Dtype  \n",
      "---  ------         --------------  -----  \n",
      " 0   time           11819 non-null  float64\n",
      " 1   input_voltage  11819 non-null  float64\n",
      " 2   el_power       11819 non-null  float64\n",
      "dtypes: float64(3)\n",
      "memory usage: 277.1 KB\n",
      "\n",
      "\n",
      "📊📊📊📊📊\u001b[1mDescriptive statistics\u001b[0m📊📊📊📊📊\n",
      "              time  input_voltage      el_power\n",
      "count  11819.00000   11819.000000  11819.000000\n",
      "mean    6727.84000       5.538021   1828.548454\n",
      "std     3411.99575       1.397095    402.170208\n",
      "min      818.84000       3.445000   1204.205671\n",
      "25%     3773.34000       4.305000   1449.908790\n",
      "50%     6727.84000       5.790000   1735.783127\n",
      "75%     9682.34000       6.880000   2247.396267\n",
      "max    12636.84000       7.240000   2511.698262\n",
      "\n",
      "\n",
      "📊📊📊📊📊\u001b[1mMissing values\u001b[0m📊📊📊📊📊\n",
      "time             0\n",
      "input_voltage    0\n",
      "el_power         0\n",
      "dtype: int64\n"
     ]
    }
   ],
   "source": [
    "FT.BasicStatisticsDataFrame(\"../Datasets/EjerciciosPracticos/train/ex_9.csv\")"
   ]
  },
  {
   "cell_type": "code",
   "execution_count": 5,
   "metadata": {},
   "outputs": [
    {
     "name": "stdout",
     "output_type": "stream",
     "text": [
      "📊📊📊📊📊\u001b[1mDataset Head\u001b[0m📊📊📊📊📊\n",
      "     time  input_voltage     el_power\n",
      "0  849.22            3.0  1238.511285\n",
      "1  850.24            3.0  1149.563728\n",
      "2  851.26            3.0  1226.959165\n",
      "3  852.28            3.0  1158.086961\n",
      "4  853.30            3.0  1230.435294\n",
      "\n",
      "\n",
      "📊📊📊📊📊\u001b[1mDataset Shape\u001b[0m📊📊📊📊📊\n",
      "(6495, 3)\n",
      "\n",
      "\n",
      "📊📊📊📊📊\u001b[1mDataset information\u001b[0m📊📊📊📊📊\n",
      "<class 'pandas.core.frame.DataFrame'>\n",
      "RangeIndex: 6495 entries, 0 to 6494\n",
      "Data columns (total 3 columns):\n",
      " #   Column         Non-Null Count  Dtype  \n",
      "---  ------         --------------  -----  \n",
      " 0   time           6495 non-null   float64\n",
      " 1   input_voltage  6495 non-null   float64\n",
      " 2   el_power       6495 non-null   float64\n",
      "dtypes: float64(3)\n",
      "memory usage: 152.4 KB\n",
      "\n",
      "\n",
      "📊📊📊📊📊\u001b[1mDescriptive statistics\u001b[0m📊📊📊📊📊\n",
      "              time  input_voltage     el_power\n",
      "count  6495.000000    6495.000000  6495.000000\n",
      "mean   4285.243504       4.655119  1623.263494\n",
      "std    2015.543637       2.481296   632.985147\n",
      "min     849.220000       3.000000  1097.030791\n",
      "25%    2534.680000       3.000000  1158.548696\n",
      "50%    4252.160000       3.000000  1241.345876\n",
      "75%    6019.240000       5.000000  1909.031616\n",
      "max    7824.000000      10.000000  3182.431061\n",
      "\n",
      "\n",
      "📊📊📊📊📊\u001b[1mMissing values\u001b[0m📊📊📊📊📊\n",
      "time             0\n",
      "input_voltage    0\n",
      "el_power         0\n",
      "dtype: int64\n"
     ]
    }
   ],
   "source": [
    "FT.BasicStatisticsDataFrame(\"../Datasets/EjerciciosPracticos/train/ex_20.csv\")"
   ]
  },
  {
   "cell_type": "code",
   "execution_count": 6,
   "metadata": {},
   "outputs": [
    {
     "name": "stdout",
     "output_type": "stream",
     "text": [
      "📊📊📊📊📊\u001b[1mDataset Head\u001b[0m📊📊📊📊📊\n",
      "     time  input_voltage     el_power\n",
      "0  847.72            3.0  1089.895066\n",
      "1  848.74            3.0  1179.843179\n",
      "2  849.78            3.0  1099.497553\n",
      "3  850.80            3.0  1181.551142\n",
      "4  851.82            3.0  1100.823819\n",
      "\n",
      "\n",
      "📊📊📊📊📊\u001b[1mDataset Shape\u001b[0m📊📊📊📊📊\n",
      "(6495, 3)\n",
      "\n",
      "\n",
      "📊📊📊📊📊\u001b[1mDataset information\u001b[0m📊📊📊📊📊\n",
      "<class 'pandas.core.frame.DataFrame'>\n",
      "RangeIndex: 6495 entries, 0 to 6494\n",
      "Data columns (total 3 columns):\n",
      " #   Column         Non-Null Count  Dtype  \n",
      "---  ------         --------------  -----  \n",
      " 0   time           6495 non-null   float64\n",
      " 1   input_voltage  6495 non-null   float64\n",
      " 2   el_power       6495 non-null   float64\n",
      "dtypes: float64(3)\n",
      "memory usage: 152.4 KB\n",
      "\n",
      "\n",
      "📊📊📊📊📊\u001b[1mDescriptive statistics\u001b[0m📊📊📊📊📊\n",
      "              time  input_voltage     el_power\n",
      "count  6495.000000    6495.000000  6495.000000\n",
      "mean   4252.303279       4.658276  1576.460277\n",
      "std    1999.890706       2.479646   638.042444\n",
      "min     847.720000       3.000000  1045.541020\n",
      "25%    2513.030000       3.000000  1112.552610\n",
      "50%    4217.520000       3.000000  1191.245597\n",
      "75%    5971.160000       5.000000  1889.461847\n",
      "max    7776.600000      10.000000  3191.966802\n",
      "\n",
      "\n",
      "📊📊📊📊📊\u001b[1mMissing values\u001b[0m📊📊📊📊📊\n",
      "time             0\n",
      "input_voltage    0\n",
      "el_power         0\n",
      "dtype: int64\n"
     ]
    }
   ],
   "source": [
    "FT.BasicStatisticsDataFrame(\"../Datasets/EjerciciosPracticos/train/ex_21.csv\")"
   ]
  },
  {
   "cell_type": "code",
   "execution_count": 7,
   "metadata": {},
   "outputs": [
    {
     "name": "stdout",
     "output_type": "stream",
     "text": [
      "📊📊📊📊📊\u001b[1mDataset Head\u001b[0m📊📊📊📊📊\n",
      "     time  input_voltage     el_power\n",
      "0  810.00            3.0  1102.949693\n",
      "1  811.04            3.0  1199.403786\n",
      "2  812.08            3.0  1113.199817\n",
      "3  813.18            3.0  1200.377939\n",
      "4  814.18            3.0  1105.465349\n",
      "\n",
      "\n",
      "📊📊📊📊📊\u001b[1mDataset Shape\u001b[0m📊📊📊📊📊\n",
      "(9188, 3)\n",
      "\n",
      "\n",
      "📊📊📊📊📊\u001b[1mDataset information\u001b[0m📊📊📊📊📊\n",
      "<class 'pandas.core.frame.DataFrame'>\n",
      "RangeIndex: 9188 entries, 0 to 9187\n",
      "Data columns (total 3 columns):\n",
      " #   Column         Non-Null Count  Dtype  \n",
      "---  ------         --------------  -----  \n",
      " 0   time           9188 non-null   float64\n",
      " 1   input_voltage  9188 non-null   float64\n",
      " 2   el_power       9188 non-null   float64\n",
      "dtypes: float64(3)\n",
      "memory usage: 215.5 KB\n",
      "\n",
      "\n",
      "📊📊📊📊📊\u001b[1mDescriptive statistics\u001b[0m📊📊📊📊📊\n",
      "               time  input_voltage     el_power\n",
      "count   9188.000000    9188.000000  9188.000000\n",
      "mean    5821.804822       5.258644  1899.231847\n",
      "std     2964.155040       2.235487   693.044107\n",
      "min      810.000000       3.000000  1053.218306\n",
      "25%     3205.085000       3.000000  1212.052789\n",
      "50%     5783.460000       4.842105  1694.534657\n",
      "75%     8414.045000       7.052632  2508.555589\n",
      "max    10954.520000       9.631579  3193.846351\n",
      "\n",
      "\n",
      "📊📊📊📊📊\u001b[1mMissing values\u001b[0m📊📊📊📊📊\n",
      "time             0\n",
      "input_voltage    0\n",
      "el_power         0\n",
      "dtype: int64\n"
     ]
    }
   ],
   "source": [
    "FT.BasicStatisticsDataFrame(\"../Datasets/EjerciciosPracticos/train/ex_23.csv\")"
   ]
  },
  {
   "cell_type": "code",
   "execution_count": 8,
   "metadata": {},
   "outputs": [
    {
     "name": "stdout",
     "output_type": "stream",
     "text": [
      "📊📊📊📊📊\u001b[1mDataset Head\u001b[0m📊📊📊📊📊\n",
      "     time  input_voltage     el_power\n",
      "0  811.04            3.0  1217.413110\n",
      "1  812.04            3.0  1140.090013\n",
      "2  813.06            3.0  1223.751987\n",
      "3  814.10            3.0  1124.810110\n",
      "4  815.12            3.0  1207.671543\n",
      "\n",
      "\n",
      "📊📊📊📊📊\u001b[1mDataset Shape\u001b[0m📊📊📊📊📊\n",
      "(9023, 3)\n",
      "\n",
      "\n",
      "📊📊📊📊📊\u001b[1mDataset information\u001b[0m📊📊📊📊📊\n",
      "<class 'pandas.core.frame.DataFrame'>\n",
      "RangeIndex: 9023 entries, 0 to 9022\n",
      "Data columns (total 3 columns):\n",
      " #   Column         Non-Null Count  Dtype  \n",
      "---  ------         --------------  -----  \n",
      " 0   time           9023 non-null   float64\n",
      " 1   input_voltage  9023 non-null   float64\n",
      " 2   el_power       9023 non-null   float64\n",
      "dtypes: float64(3)\n",
      "memory usage: 211.6 KB\n",
      "\n",
      "\n",
      "📊📊📊📊📊\u001b[1mDescriptive statistics\u001b[0m📊📊📊📊📊\n",
      "               time  input_voltage     el_power\n",
      "count   9023.000000    9023.000000  9023.000000\n",
      "mean    5669.373056       5.488547  1805.375104\n",
      "std     2849.219820       2.297978   680.139456\n",
      "min      811.040000       3.000000  1054.175250\n",
      "25%     3161.990000       3.000000  1221.472869\n",
      "50%     5683.780000       5.210526  1539.209904\n",
      "75%     8146.820000       7.421053  2380.490784\n",
      "max    10579.600000      10.000000  3191.101416\n",
      "\n",
      "\n",
      "📊📊📊📊📊\u001b[1mMissing values\u001b[0m📊📊📊📊📊\n",
      "time             0\n",
      "input_voltage    0\n",
      "el_power         0\n",
      "dtype: int64\n"
     ]
    }
   ],
   "source": [
    "FT.BasicStatisticsDataFrame(\"../Datasets/EjerciciosPracticos/train/ex_24.csv\")"
   ]
  },
  {
   "cell_type": "code",
   "execution_count": 9,
   "metadata": {},
   "outputs": [
    {
     "name": "stdout",
     "output_type": "stream",
     "text": [
      "📊📊📊📊📊\u001b[1mDataset Head\u001b[0m📊📊📊📊📊\n",
      "         time  input_voltage     el_power\n",
      "0  758.425813            3.0  1206.993434\n",
      "1  759.425109            3.0  1255.072122\n",
      "2  760.424406            3.0  1203.093254\n",
      "3  761.423702            3.0  1259.000662\n",
      "4  762.422998            3.0  1196.033782\n",
      "\n",
      "\n",
      "📊📊📊📊📊\u001b[1mDataset Shape\u001b[0m📊📊📊📊📊\n",
      "(9795, 3)\n",
      "\n",
      "\n",
      "📊📊📊📊📊\u001b[1mDataset information\u001b[0m📊📊📊📊📊\n",
      "<class 'pandas.core.frame.DataFrame'>\n",
      "RangeIndex: 9795 entries, 0 to 9794\n",
      "Data columns (total 3 columns):\n",
      " #   Column         Non-Null Count  Dtype  \n",
      "---  ------         --------------  -----  \n",
      " 0   time           9795 non-null   float64\n",
      " 1   input_voltage  9795 non-null   float64\n",
      " 2   el_power       9795 non-null   float64\n",
      "dtypes: float64(3)\n",
      "memory usage: 229.7 KB\n",
      "\n",
      "\n",
      "📊📊📊📊📊\u001b[1mDescriptive statistics\u001b[0m📊📊📊📊📊\n",
      "               time  input_voltage     el_power\n",
      "count   9795.000000    9795.000000  9795.000000\n",
      "mean    5651.979106       5.548392  1938.575453\n",
      "std     2825.727015       2.948274   819.978754\n",
      "min      758.425813       3.000000  1109.522853\n",
      "25%     3205.202460       3.000000  1223.075977\n",
      "50%     5651.979106       3.000000  1602.029042\n",
      "75%     8098.755753       7.500000  2547.339604\n",
      "max    10545.532399      10.000000  3393.228566\n",
      "\n",
      "\n",
      "📊📊📊📊📊\u001b[1mMissing values\u001b[0m📊📊📊📊📊\n",
      "time             0\n",
      "input_voltage    0\n",
      "el_power         0\n",
      "dtype: int64\n"
     ]
    }
   ],
   "source": [
    "FT.BasicStatisticsDataFrame(\"../Datasets/EjerciciosPracticos/test/ex_4.csv\")"
   ]
  },
  {
   "cell_type": "code",
   "execution_count": 10,
   "metadata": {},
   "outputs": [
    {
     "name": "stdout",
     "output_type": "stream",
     "text": [
      "📊📊📊📊📊\u001b[1mDataset Head\u001b[0m📊📊📊📊📊\n",
      "         time  input_voltage     el_power\n",
      "0  758.425813            3.0  1206.993434\n",
      "1  759.425109            3.0  1255.072122\n",
      "2  760.424406            3.0  1203.093254\n",
      "3  761.423702            3.0  1259.000662\n",
      "4  762.422998            3.0  1196.033782\n",
      "\n",
      "\n",
      "📊📊📊📊📊\u001b[1mDataset Shape\u001b[0m📊📊📊📊📊\n",
      "(9795, 3)\n",
      "\n",
      "\n",
      "📊📊📊📊📊\u001b[1mDataset information\u001b[0m📊📊📊📊📊\n",
      "<class 'pandas.core.frame.DataFrame'>\n",
      "RangeIndex: 9795 entries, 0 to 9794\n",
      "Data columns (total 3 columns):\n",
      " #   Column         Non-Null Count  Dtype  \n",
      "---  ------         --------------  -----  \n",
      " 0   time           9795 non-null   float64\n",
      " 1   input_voltage  9795 non-null   float64\n",
      " 2   el_power       9795 non-null   float64\n",
      "dtypes: float64(3)\n",
      "memory usage: 229.7 KB\n",
      "\n",
      "\n",
      "📊📊📊📊📊\u001b[1mDescriptive statistics\u001b[0m📊📊📊📊📊\n",
      "               time  input_voltage     el_power\n",
      "count   9795.000000    9795.000000  9795.000000\n",
      "mean    5651.979106       5.548392  1938.575453\n",
      "std     2825.727015       2.948274   819.978754\n",
      "min      758.425813       3.000000  1109.522853\n",
      "25%     3205.202460       3.000000  1223.075977\n",
      "50%     5651.979106       3.000000  1602.029042\n",
      "75%     8098.755753       7.500000  2547.339604\n",
      "max    10545.532399      10.000000  3393.228566\n",
      "\n",
      "\n",
      "📊📊📊📊📊\u001b[1mMissing values\u001b[0m📊📊📊📊📊\n",
      "time             0\n",
      "input_voltage    0\n",
      "el_power         0\n",
      "dtype: int64\n"
     ]
    }
   ],
   "source": [
    "FT.BasicStatisticsDataFrame(\"../Datasets/EjerciciosPracticos/test/ex_4.csv\")"
   ]
  },
  {
   "cell_type": "code",
   "execution_count": null,
   "metadata": {},
   "outputs": [],
   "source": []
  }
 ],
 "metadata": {
  "kernelspec": {
   "display_name": "TimesSeries",
   "language": "python",
   "name": "python3"
  },
  "language_info": {
   "codemirror_mode": {
    "name": "ipython",
    "version": 3
   },
   "file_extension": ".py",
   "mimetype": "text/x-python",
   "name": "python",
   "nbconvert_exporter": "python",
   "pygments_lexer": "ipython3",
   "version": "3.9.15"
  }
 },
 "nbformat": 4,
 "nbformat_minor": 2
}
